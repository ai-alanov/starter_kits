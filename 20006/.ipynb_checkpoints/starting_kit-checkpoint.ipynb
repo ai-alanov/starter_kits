{
 "cells": [
  {
   "cell_type": "markdown",
   "metadata": {},
   "source": [
    "<table>\n",
    "<tr>\n",
    "    <td width=10%><img src=\"./img/logo_lri.jpg\"></td>\n",
    "    <td width=30%><img src=\"./img/medi-chal_logo.png\" height=15%></img></td>\n",
    "</tr>\n",
    "\n",
    "</table>"
   ]
  },
  {
   "cell_type": "markdown",
   "metadata": {},
   "source": [
    "<br/><br/><div id=\"top\"></div>\n",
    "\n",
    "<center><a style=\"font-size: 40pt; font-weight: bold\">Chems Challenge</a></center>\n",
    "<br/>\n",
    "<center><a style=\"font-size: 22pt; font-weight: bold\">Binary Classification and Feature Selection</a></center>\n",
    "<br/>\n",
    "\n",
    "---"
   ]
  },
  {
   "cell_type": "code",
   "execution_count": 1,
   "metadata": {},
   "outputs": [],
   "source": [
    "%matplotlib inline\n",
    "%reload_ext autoreload\n",
    "%autoreload 2\n",
    "\n",
    "# IMPORTS\n",
    "import pandas as pd\n",
    "import numpy as np\n",
    "import matplotlib.pyplot as plt\n",
    "import seaborn as sns\n",
    "from sklearn.model_selection import train_test_split\n",
    "from sklearn.linear_model import LogisticRegression"
   ]
  },
  {
   "cell_type": "markdown",
   "metadata": {},
   "source": [
    "<b><font size=\"5\">Outline</font></b><br/><br/>\n",
    "&emsp;&emsp;&emsp; I) <a href=\"#Data\"> Data loading</a><br/>\n",
    "&emsp;&emsp;&emsp; II) <a href=\"#Selection\"> Feature selection </a><br/>\n",
    "&emsp;&emsp;&emsp; III) <a href=\"#Baseline\"> Baseline classification model </a><br/>\n",
    "&emsp;&emsp;&emsp; IV) <a href=\"#Submission\"> Submission files </a><br/>"
   ]
  },
  {
   "cell_type": "markdown",
   "metadata": {},
   "source": [
    "## <a id=\"Data\"> I) Data loading</a>  \n",
    "\n",
    "Description"
   ]
  },
  {
   "cell_type": "code",
   "execution_count": 8,
   "metadata": {},
   "outputs": [],
   "source": [
    "features = pd.read_csv('public_data_1/chems_feat.name',header=None).values.flatten()\n",
    "labels = pd.read_csv('public_data_1/chems_label.name', header=None).values.flatten()\n",
    "X = pd.read_csv('public_data_1/chems_train.data', header=None, names=features, sep=',')\n",
    "y = pd.Series(pd.read_csv('public_data_1/chems_train.solution', header=None, names=labels, sep=',').values.flatten())"
   ]
  },
  {
   "cell_type": "markdown",
   "metadata": {},
   "source": [
    "##### Variables types"
   ]
  },
  {
   "cell_type": "code",
   "execution_count": 11,
   "metadata": {},
   "outputs": [],
   "source": [
    "types = pd.read_csv('public_data_1/chems_feat.type', header=None).set_index(features)[0]"
   ]
  },
  {
   "cell_type": "code",
   "execution_count": 12,
   "metadata": {},
   "outputs": [
    {
     "name": "stdout",
     "output_type": "stream",
     "text": [
      "Numerical      152\n",
      "Binary          12\n",
      "Categorical      4\n",
      "Name: 0, dtype: int64\n"
     ]
    }
   ],
   "source": [
    "print(types.value_counts())"
   ]
  },
  {
   "cell_type": "markdown",
   "metadata": {},
   "source": [
    "## <a id=\"Selection\"> II) Feature selection </a>  "
   ]
  },
  {
   "cell_type": "code",
   "execution_count": 42,
   "metadata": {},
   "outputs": [
    {
     "name": "stdout",
     "output_type": "stream",
     "text": [
      "0.7821844660194176\n",
      "0.841359223300971\n"
     ]
    }
   ],
   "source": [
    "from sklearn.linear_model import LarsCV, LassoCV\n",
    "from sklearn.metrics import roc_auc_score\n",
    "X_train, X_test, y_train, y_test = train_test_split(X, y, train_size=0.7, test_size=0.3, random_state=42)\n",
    "\n",
    "\n",
    "model = LarsCV(cv=4)\n",
    "model.fit(X_train, y_train)\n",
    "print(roc_auc_score(y_test, model.predict(X_test)))\n",
    "\n",
    "model = LassoCV(cv=4)\n",
    "model.fit(X_train, y_train)\n",
    "print(roc_auc_score(y_test, model.predict(X_test)))"
   ]
  },
  {
   "cell_type": "code",
   "execution_count": 51,
   "metadata": {},
   "outputs": [],
   "source": [
    "pd.Series(model.coef_).to_csv('submissions/selection.csv', index=False)"
   ]
  },
  {
   "cell_type": "markdown",
   "metadata": {},
   "source": [
    "## <a id=\"Baseline\"> III) Baseline classification model </a>  "
   ]
  },
  {
   "cell_type": "markdown",
   "metadata": {},
   "source": [
    "#### Classification on feature selected dataset"
   ]
  },
  {
   "cell_type": "code",
   "execution_count": 61,
   "metadata": {},
   "outputs": [
    {
     "name": "stdout",
     "output_type": "stream",
     "text": [
      "0.841359223300971\n"
     ]
    }
   ],
   "source": [
    "model = LassoCV(cv=4)\n",
    "model.fit(X_train, y_train)\n",
    "print(roc_auc_score(y_test, model.predict(X_test)))"
   ]
  },
  {
   "cell_type": "markdown",
   "metadata": {},
   "source": [
    "## <a id=\"Submission\"> IV) Submission files </a>  "
   ]
  },
  {
   "cell_type": "code",
   "execution_count": 62,
   "metadata": {},
   "outputs": [],
   "source": [
    "# classification\n",
    "model = LassoCV(cv=4)\n",
    "model.fit(X, y)\n",
    "\n",
    "test = pd.read_csv('public_data_1/chems_test.data', header=None, names=features, sep=',')\n",
    "prediction = model.predict(test)\n",
    "pd.Series(prediction).to_csv('submissions/classification.csv', index=False)"
   ]
  },
  {
   "cell_type": "code",
   "execution_count": null,
   "metadata": {},
   "outputs": [],
   "source": []
  }
 ],
 "metadata": {
  "kernelspec": {
   "display_name": "Python 3",
   "language": "python",
   "name": "python3"
  },
  "language_info": {
   "codemirror_mode": {
    "name": "ipython",
    "version": 3
   },
   "file_extension": ".py",
   "mimetype": "text/x-python",
   "name": "python",
   "nbconvert_exporter": "python",
   "pygments_lexer": "ipython3",
   "version": "3.6.5"
  }
 },
 "nbformat": 4,
 "nbformat_minor": 2
}
