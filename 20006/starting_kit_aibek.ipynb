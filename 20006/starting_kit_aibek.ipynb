{
 "cells": [
  {
   "cell_type": "code",
   "execution_count": 1,
   "metadata": {
    "ExecuteTime": {
     "end_time": "2018-09-12T21:47:29.772534Z",
     "start_time": "2018-09-12T21:47:26.737320Z"
    }
   },
   "outputs": [],
   "source": [
    "%matplotlib inline\n",
    "%reload_ext autoreload\n",
    "%autoreload\n",
    "\n",
    "import pandas as pd\n",
    "import numpy as np\n",
    "import matplotlib.pyplot as plt\n",
    "import seaborn as sns\n",
    "from sklearn.model_selection import train_test_split\n",
    "from sklearn.linear_model import LogisticRegression"
   ]
  },
  {
   "cell_type": "code",
   "execution_count": 2,
   "metadata": {
    "ExecuteTime": {
     "end_time": "2018-09-12T21:47:29.854933Z",
     "start_time": "2018-09-12T21:47:29.776025Z"
    }
   },
   "outputs": [],
   "source": [
    "features = pd.read_csv('public_data_1/chems_feat.name',header=None).values.flatten()\n",
    "labels = pd.read_csv('public_data_1/chems_label.name', header=None).values.flatten()\n",
    "X = pd.read_csv('public_data_1/chems_train.data', header=None, names=features, sep=',')\n",
    "y = pd.Series(pd.read_csv('public_data_1/chems_train.solution', header=None, names=labels, sep=',').values.flatten())"
   ]
  },
  {
   "cell_type": "code",
   "execution_count": 3,
   "metadata": {
    "ExecuteTime": {
     "end_time": "2018-09-12T21:47:30.478471Z",
     "start_time": "2018-09-12T21:47:30.464532Z"
    }
   },
   "outputs": [
    {
     "name": "stdout",
     "output_type": "stream",
     "text": [
      "Numerical      152\n",
      "Binary          12\n",
      "Categorical      4\n",
      "Name: 0, dtype: int64\n"
     ]
    }
   ],
   "source": [
    "types = pd.read_csv('public_data_1/chems_feat.type', header=None).set_index(features)[0]\n",
    "print(types.value_counts())"
   ]
  },
  {
   "cell_type": "code",
   "execution_count": 4,
   "metadata": {
    "ExecuteTime": {
     "end_time": "2018-09-12T21:47:31.042855Z",
     "start_time": "2018-09-12T21:47:31.033066Z"
    }
   },
   "outputs": [],
   "source": [
    "X_train, X_test, y_train, y_test = train_test_split(X, y, train_size=0.7, test_size=0.3, random_state=1234)"
   ]
  },
  {
   "cell_type": "code",
   "execution_count": 5,
   "metadata": {
    "ExecuteTime": {
     "end_time": "2018-09-12T21:47:31.557184Z",
     "start_time": "2018-09-12T21:47:31.433182Z"
    }
   },
   "outputs": [
    {
     "name": "stdout",
     "output_type": "stream",
     "text": [
      "0.8319862260270697\n"
     ]
    }
   ],
   "source": [
    "from sklearn.svm import LinearSVC\n",
    "from sklearn.metrics import roc_auc_score\n",
    "\n",
    "lsvc = LinearSVC(C=0.01, penalty=\"l1\", dual=False, random_state=1234).fit(X_train, y_train)\n",
    "print(roc_auc_score(y_test, lsvc.predict(X_test)))"
   ]
  },
  {
   "cell_type": "code",
   "execution_count": 6,
   "metadata": {
    "ExecuteTime": {
     "end_time": "2018-09-12T21:47:32.122670Z",
     "start_time": "2018-09-12T21:47:32.111880Z"
    }
   },
   "outputs": [],
   "source": [
    "pd.Series(lsvc.coef_[0]).to_csv('submissions_aibek/selection.csv', index=False)"
   ]
  },
  {
   "cell_type": "code",
   "execution_count": 7,
   "metadata": {
    "ExecuteTime": {
     "end_time": "2018-09-12T21:47:32.869108Z",
     "start_time": "2018-09-12T21:47:32.825996Z"
    }
   },
   "outputs": [],
   "source": [
    "from sklearn.pipeline import Pipeline\n",
    "from sklearn.feature_selection import SelectFromModel\n",
    "from sklearn.ensemble import RandomForestClassifier"
   ]
  },
  {
   "cell_type": "code",
   "execution_count": 8,
   "metadata": {
    "ExecuteTime": {
     "end_time": "2018-09-12T21:47:36.536939Z",
     "start_time": "2018-09-12T21:47:33.494605Z"
    }
   },
   "outputs": [
    {
     "name": "stdout",
     "output_type": "stream",
     "text": [
      "0.9052321966617247\n"
     ]
    }
   ],
   "source": [
    "clf = Pipeline([\n",
    "  ('feature_selection', SelectFromModel(LinearSVC(C=0.01, penalty=\"l1\", dual=False, random_state=1234))),\n",
    "  ('classification', RandomForestClassifier(n_estimators=1000, random_state=1234))\n",
    "])\n",
    "clf.fit(X_train, y_train)\n",
    "print(roc_auc_score(y_test, clf.predict(X_test)))"
   ]
  },
  {
   "cell_type": "code",
   "execution_count": 9,
   "metadata": {
    "ExecuteTime": {
     "end_time": "2018-09-12T21:47:37.949485Z",
     "start_time": "2018-09-12T21:47:37.761393Z"
    }
   },
   "outputs": [],
   "source": [
    "test = pd.read_csv('public_data_1/chems_test.data', header=None, names=features, sep=',')\n",
    "prediction = clf.predict(test)\n",
    "pd.Series(prediction).to_csv('submissions_aibek/classification.csv', index=False)"
   ]
  }
 ],
 "metadata": {
  "kernelspec": {
   "display_name": "Python 3",
   "language": "python",
   "name": "python3"
  },
  "language_info": {
   "codemirror_mode": {
    "name": "ipython",
    "version": 3
   },
   "file_extension": ".py",
   "mimetype": "text/x-python",
   "name": "python",
   "nbconvert_exporter": "python",
   "pygments_lexer": "ipython3",
   "version": "3.6.3"
  }
 },
 "nbformat": 4,
 "nbformat_minor": 2
}
