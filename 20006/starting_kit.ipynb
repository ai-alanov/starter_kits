{
 "cells": [
  {
   "cell_type": "markdown",
   "metadata": {},
   "source": [
    "<table>\n",
    "<tr>\n",
    "    <td width=10%><img src=\"./img/logo_lri.jpg\"></td>\n",
    "    <td width=30%><img src=\"./img/medi-chal_logo.png\" height=15%></img></td>\n",
    "</tr>\n",
    "\n",
    "</table>"
   ]
  },
  {
   "cell_type": "markdown",
   "metadata": {},
   "source": [
    "<br/><br/><div id=\"top\"></div>\n",
    "\n",
    "<center><a style=\"font-size: 40pt; font-weight: bold\">Chems Challenge</a></center>\n",
    "<br/>\n",
    "<center><a style=\"font-size: 22pt; font-weight: bold\">Binary Classification and Feature Selection</a></center>\n",
    "<br/>\n",
    "\n",
    "---"
   ]
  },
  {
   "cell_type": "code",
   "execution_count": 1,
   "metadata": {},
   "outputs": [],
   "source": [
    "%matplotlib inline\n",
    "%reload_ext autoreload\n",
    "%autoreload 2\n",
    "\n",
    "# IMPORTS\n",
    "import pandas as pd\n",
    "import numpy as np\n",
    "import matplotlib.pyplot as plt\n",
    "import seaborn as sns\n",
    "from sklearn.model_selection import train_test_split\n",
    "from sklearn.linear_model import LogisticRegression"
   ]
  },
  {
   "cell_type": "markdown",
   "metadata": {},
   "source": [
    "<b><font size=\"5\">Outline</font></b><br/><br/>\n",
    "&emsp;&emsp;&emsp; I) <a href=\"#Data\"> Data loading</a><br/>\n",
    "&emsp;&emsp;&emsp; II) <a href=\"#Selection\"> Feature selection </a><br/>\n",
    "&emsp;&emsp;&emsp; III) <a href=\"#Baseline\"> Baseline classification model </a><br/>\n",
    "&emsp;&emsp;&emsp; IV) <a href=\"#Submission\"> Submission files </a><br/>"
   ]
  },
  {
   "cell_type": "markdown",
   "metadata": {},
   "source": [
    "## <a id=\"Data\"> I) Data loading</a>  \n",
    "\n",
    "Description"
   ]
  },
  {
   "cell_type": "code",
   "execution_count": 2,
   "metadata": {},
   "outputs": [],
   "source": [
    "features = pd.read_csv('../public_data_1/chems_feat.name',header=None).values.flatten()\n",
    "labels = pd.read_csv('../public_data_1/chems_label.name', header=None).values.flatten()\n",
    "X = pd.read_csv('../public_data_1/chems_train.data', header=None, names=features, sep=',')\n",
    "y = pd.Series(pd.read_csv('../public_data_1/chems_train.solution', header=None, names=labels, sep=',').values.flatten())"
   ]
  },
  {
   "cell_type": "code",
   "execution_count": 3,
   "metadata": {},
   "outputs": [
    {
     "data": {
      "text/html": [
       "<div>\n",
       "<style scoped>\n",
       "    .dataframe tbody tr th:only-of-type {\n",
       "        vertical-align: middle;\n",
       "    }\n",
       "\n",
       "    .dataframe tbody tr th {\n",
       "        vertical-align: top;\n",
       "    }\n",
       "\n",
       "    .dataframe thead th {\n",
       "        text-align: right;\n",
       "    }\n",
       "</style>\n",
       "<table border=\"1\" class=\"dataframe\">\n",
       "  <thead>\n",
       "    <tr style=\"text-align: right;\">\n",
       "      <th></th>\n",
       "      <th>X0</th>\n",
       "      <th>X1</th>\n",
       "      <th>X2</th>\n",
       "      <th>X3</th>\n",
       "      <th>X4</th>\n",
       "      <th>X5</th>\n",
       "      <th>X6</th>\n",
       "      <th>X7</th>\n",
       "      <th>X8</th>\n",
       "      <th>X9</th>\n",
       "      <th>...</th>\n",
       "      <th>X158</th>\n",
       "      <th>X159</th>\n",
       "      <th>X160</th>\n",
       "      <th>X161</th>\n",
       "      <th>X162</th>\n",
       "      <th>X163</th>\n",
       "      <th>X164</th>\n",
       "      <th>X165</th>\n",
       "      <th>X166</th>\n",
       "      <th>X167</th>\n",
       "    </tr>\n",
       "  </thead>\n",
       "  <tbody>\n",
       "    <tr>\n",
       "      <th>0</th>\n",
       "      <td>0.0</td>\n",
       "      <td>2.0</td>\n",
       "      <td>0.000</td>\n",
       "      <td>1.000</td>\n",
       "      <td>17.056</td>\n",
       "      <td>13.800</td>\n",
       "      <td>1.0</td>\n",
       "      <td>0.0</td>\n",
       "      <td>8.0</td>\n",
       "      <td>-1.000</td>\n",
       "      <td>...</td>\n",
       "      <td>16.8396</td>\n",
       "      <td>2.0</td>\n",
       "      <td>2068.0</td>\n",
       "      <td>2.0</td>\n",
       "      <td>1350.0</td>\n",
       "      <td>2.0</td>\n",
       "      <td>0.0</td>\n",
       "      <td>0.0</td>\n",
       "      <td>3.000</td>\n",
       "      <td>0.0</td>\n",
       "    </tr>\n",
       "    <tr>\n",
       "      <th>1</th>\n",
       "      <td>0.0</td>\n",
       "      <td>1.0</td>\n",
       "      <td>-0.465</td>\n",
       "      <td>1.000</td>\n",
       "      <td>13.212</td>\n",
       "      <td>9.416</td>\n",
       "      <td>0.0</td>\n",
       "      <td>0.0</td>\n",
       "      <td>12.0</td>\n",
       "      <td>-1.000</td>\n",
       "      <td>...</td>\n",
       "      <td>14.6340</td>\n",
       "      <td>0.0</td>\n",
       "      <td>1674.0</td>\n",
       "      <td>3.0</td>\n",
       "      <td>480.0</td>\n",
       "      <td>0.0</td>\n",
       "      <td>0.0</td>\n",
       "      <td>0.0</td>\n",
       "      <td>3.736</td>\n",
       "      <td>0.0</td>\n",
       "    </tr>\n",
       "    <tr>\n",
       "      <th>2</th>\n",
       "      <td>0.0</td>\n",
       "      <td>0.0</td>\n",
       "      <td>0.144</td>\n",
       "      <td>1.506</td>\n",
       "      <td>9.364</td>\n",
       "      <td>10.668</td>\n",
       "      <td>0.0</td>\n",
       "      <td>1.0</td>\n",
       "      <td>6.0</td>\n",
       "      <td>-0.464</td>\n",
       "      <td>...</td>\n",
       "      <td>14.3524</td>\n",
       "      <td>0.0</td>\n",
       "      <td>1230.0</td>\n",
       "      <td>0.0</td>\n",
       "      <td>1170.0</td>\n",
       "      <td>0.0</td>\n",
       "      <td>0.0</td>\n",
       "      <td>0.0</td>\n",
       "      <td>3.224</td>\n",
       "      <td>0.0</td>\n",
       "    </tr>\n",
       "    <tr>\n",
       "      <th>3</th>\n",
       "      <td>0.0</td>\n",
       "      <td>4.0</td>\n",
       "      <td>0.933</td>\n",
       "      <td>1.000</td>\n",
       "      <td>11.524</td>\n",
       "      <td>18.000</td>\n",
       "      <td>0.0</td>\n",
       "      <td>0.0</td>\n",
       "      <td>3.0</td>\n",
       "      <td>-1.000</td>\n",
       "      <td>...</td>\n",
       "      <td>13.8920</td>\n",
       "      <td>6.0</td>\n",
       "      <td>988.0</td>\n",
       "      <td>0.0</td>\n",
       "      <td>1080.0</td>\n",
       "      <td>0.0</td>\n",
       "      <td>0.0</td>\n",
       "      <td>0.0</td>\n",
       "      <td>3.656</td>\n",
       "      <td>0.0</td>\n",
       "    </tr>\n",
       "    <tr>\n",
       "      <th>4</th>\n",
       "      <td>0.0</td>\n",
       "      <td>0.0</td>\n",
       "      <td>0.000</td>\n",
       "      <td>1.172</td>\n",
       "      <td>12.024</td>\n",
       "      <td>9.864</td>\n",
       "      <td>0.0</td>\n",
       "      <td>0.0</td>\n",
       "      <td>5.0</td>\n",
       "      <td>-1.000</td>\n",
       "      <td>...</td>\n",
       "      <td>7.1920</td>\n",
       "      <td>0.0</td>\n",
       "      <td>4350.0</td>\n",
       "      <td>15.0</td>\n",
       "      <td>4736.0</td>\n",
       "      <td>0.0</td>\n",
       "      <td>0.0</td>\n",
       "      <td>0.0</td>\n",
       "      <td>3.856</td>\n",
       "      <td>1.0</td>\n",
       "    </tr>\n",
       "  </tbody>\n",
       "</table>\n",
       "<p>5 rows × 168 columns</p>\n",
       "</div>"
      ],
      "text/plain": [
       "    X0   X1     X2     X3      X4      X5   X6   X7    X8     X9  ...   \\\n",
       "0  0.0  2.0  0.000  1.000  17.056  13.800  1.0  0.0   8.0 -1.000  ...    \n",
       "1  0.0  1.0 -0.465  1.000  13.212   9.416  0.0  0.0  12.0 -1.000  ...    \n",
       "2  0.0  0.0  0.144  1.506   9.364  10.668  0.0  1.0   6.0 -0.464  ...    \n",
       "3  0.0  4.0  0.933  1.000  11.524  18.000  0.0  0.0   3.0 -1.000  ...    \n",
       "4  0.0  0.0  0.000  1.172  12.024   9.864  0.0  0.0   5.0 -1.000  ...    \n",
       "\n",
       "      X158  X159    X160  X161    X162  X163  X164  X165   X166  X167  \n",
       "0  16.8396   2.0  2068.0   2.0  1350.0   2.0   0.0   0.0  3.000   0.0  \n",
       "1  14.6340   0.0  1674.0   3.0   480.0   0.0   0.0   0.0  3.736   0.0  \n",
       "2  14.3524   0.0  1230.0   0.0  1170.0   0.0   0.0   0.0  3.224   0.0  \n",
       "3  13.8920   6.0   988.0   0.0  1080.0   0.0   0.0   0.0  3.656   0.0  \n",
       "4   7.1920   0.0  4350.0  15.0  4736.0   0.0   0.0   0.0  3.856   1.0  \n",
       "\n",
       "[5 rows x 168 columns]"
      ]
     },
     "execution_count": 3,
     "metadata": {},
     "output_type": "execute_result"
    }
   ],
   "source": [
    "X.head()"
   ]
  },
  {
   "cell_type": "markdown",
   "metadata": {},
   "source": [
    "##### Variables types"
   ]
  },
  {
   "cell_type": "code",
   "execution_count": 4,
   "metadata": {},
   "outputs": [],
   "source": [
    "types = pd.read_csv('../public_data_1/chems_feat.type', header=None).set_index(features)[0]"
   ]
  },
  {
   "cell_type": "code",
   "execution_count": 5,
   "metadata": {},
   "outputs": [
    {
     "name": "stdout",
     "output_type": "stream",
     "text": [
      "Numerical      152\n",
      "Binary          12\n",
      "Categorical      4\n",
      "Name: 0, dtype: int64\n"
     ]
    }
   ],
   "source": [
    "print(types.value_counts())"
   ]
  },
  {
   "cell_type": "markdown",
   "metadata": {},
   "source": [
    "##### Class distribution"
   ]
  },
  {
   "cell_type": "code",
   "execution_count": 6,
   "metadata": {},
   "outputs": [
    {
     "data": {
      "text/plain": [
       "<matplotlib.axes._subplots.AxesSubplot at 0x7fa589dab390>"
      ]
     },
     "execution_count": 6,
     "metadata": {},
     "output_type": "execute_result"
    },
    {
     "data": {
      "image/png": "[encoded data removed]",
      "text/plain": [
       "<Figure size 432x288 with 1 Axes>"
      ]
     },
     "metadata": {},
     "output_type": "display_data"
    }
   ],
   "source": [
    "sns.distplot(y, bins=2, kde=False)"
   ]
  },
  {
   "cell_type": "markdown",
   "metadata": {},
   "source": [
    "## <a id=\"Selection\"> II) Feature selection </a>  "
   ]
  },
  {
   "cell_type": "code",
   "execution_count": 7,
   "metadata": {},
   "outputs": [],
   "source": [
    "# Baseline\n",
    "# For each variable, compute its correlation with the class y\n",
    "correlations = []\n",
    "for column in X.columns:\n",
    "    correlations.append(X[column].corr(y))\n",
    "    \n",
    "# Absolute value to be able to sort\n",
    "correlations = abs(np.array(correlations))\n",
    "\n",
    "# Average correlation rate\n",
    "m = correlations.mean()"
   ]
  },
  {
   "cell_type": "code",
   "execution_count": 8,
   "metadata": {},
   "outputs": [],
   "source": [
    "X_select = X.copy()\n",
    "\n",
    "for i, column in enumerate(X.columns):\n",
    "    if correlations[i] < m: \n",
    "        X_select = X_select.drop(column, axis=1)"
   ]
  },
  {
   "cell_type": "code",
   "execution_count": 9,
   "metadata": {},
   "outputs": [
    {
     "data": {
      "text/html": [
       "<div>\n",
       "<style scoped>\n",
       "    .dataframe tbody tr th:only-of-type {\n",
       "        vertical-align: middle;\n",
       "    }\n",
       "\n",
       "    .dataframe tbody tr th {\n",
       "        vertical-align: top;\n",
       "    }\n",
       "\n",
       "    .dataframe thead th {\n",
       "        text-align: right;\n",
       "    }\n",
       "</style>\n",
       "<table border=\"1\" class=\"dataframe\">\n",
       "  <thead>\n",
       "    <tr style=\"text-align: right;\">\n",
       "      <th></th>\n",
       "      <th>X0</th>\n",
       "      <th>X5</th>\n",
       "      <th>X6</th>\n",
       "      <th>X13</th>\n",
       "      <th>X21</th>\n",
       "      <th>X25</th>\n",
       "      <th>X26</th>\n",
       "      <th>X27</th>\n",
       "      <th>X28</th>\n",
       "      <th>X29</th>\n",
       "      <th>...</th>\n",
       "      <th>X126</th>\n",
       "      <th>X130</th>\n",
       "      <th>X138</th>\n",
       "      <th>X142</th>\n",
       "      <th>X147</th>\n",
       "      <th>X152</th>\n",
       "      <th>X154</th>\n",
       "      <th>X160</th>\n",
       "      <th>X165</th>\n",
       "      <th>X167</th>\n",
       "    </tr>\n",
       "  </thead>\n",
       "  <tbody>\n",
       "    <tr>\n",
       "      <th>0</th>\n",
       "      <td>0.0</td>\n",
       "      <td>13.800</td>\n",
       "      <td>1.0</td>\n",
       "      <td>9.771</td>\n",
       "      <td>0.0</td>\n",
       "      <td>5.348</td>\n",
       "      <td>84.8</td>\n",
       "      <td>3.0</td>\n",
       "      <td>6.116</td>\n",
       "      <td>3.0</td>\n",
       "      <td>...</td>\n",
       "      <td>6.456</td>\n",
       "      <td>5.500</td>\n",
       "      <td>18.258</td>\n",
       "      <td>0.0</td>\n",
       "      <td>0.0</td>\n",
       "      <td>0.0</td>\n",
       "      <td>0.0</td>\n",
       "      <td>2068.0</td>\n",
       "      <td>0.0</td>\n",
       "      <td>0.0</td>\n",
       "    </tr>\n",
       "    <tr>\n",
       "      <th>1</th>\n",
       "      <td>0.0</td>\n",
       "      <td>9.416</td>\n",
       "      <td>0.0</td>\n",
       "      <td>9.975</td>\n",
       "      <td>0.0</td>\n",
       "      <td>5.712</td>\n",
       "      <td>119.0</td>\n",
       "      <td>0.0</td>\n",
       "      <td>6.806</td>\n",
       "      <td>0.0</td>\n",
       "      <td>...</td>\n",
       "      <td>6.045</td>\n",
       "      <td>5.516</td>\n",
       "      <td>17.859</td>\n",
       "      <td>4.0</td>\n",
       "      <td>2.0</td>\n",
       "      <td>2.0</td>\n",
       "      <td>0.0</td>\n",
       "      <td>1674.0</td>\n",
       "      <td>0.0</td>\n",
       "      <td>0.0</td>\n",
       "    </tr>\n",
       "    <tr>\n",
       "      <th>2</th>\n",
       "      <td>0.0</td>\n",
       "      <td>10.668</td>\n",
       "      <td>0.0</td>\n",
       "      <td>10.675</td>\n",
       "      <td>0.0</td>\n",
       "      <td>4.908</td>\n",
       "      <td>95.6</td>\n",
       "      <td>0.0</td>\n",
       "      <td>48.521</td>\n",
       "      <td>0.0</td>\n",
       "      <td>...</td>\n",
       "      <td>5.913</td>\n",
       "      <td>5.568</td>\n",
       "      <td>16.236</td>\n",
       "      <td>4.0</td>\n",
       "      <td>4.0</td>\n",
       "      <td>0.0</td>\n",
       "      <td>0.0</td>\n",
       "      <td>1230.0</td>\n",
       "      <td>0.0</td>\n",
       "      <td>0.0</td>\n",
       "    </tr>\n",
       "    <tr>\n",
       "      <th>3</th>\n",
       "      <td>0.0</td>\n",
       "      <td>18.000</td>\n",
       "      <td>0.0</td>\n",
       "      <td>9.183</td>\n",
       "      <td>0.0</td>\n",
       "      <td>4.508</td>\n",
       "      <td>114.5</td>\n",
       "      <td>0.0</td>\n",
       "      <td>4.925</td>\n",
       "      <td>0.0</td>\n",
       "      <td>...</td>\n",
       "      <td>5.994</td>\n",
       "      <td>5.564</td>\n",
       "      <td>16.242</td>\n",
       "      <td>0.0</td>\n",
       "      <td>1.0</td>\n",
       "      <td>0.0</td>\n",
       "      <td>0.0</td>\n",
       "      <td>988.0</td>\n",
       "      <td>0.0</td>\n",
       "      <td>0.0</td>\n",
       "    </tr>\n",
       "    <tr>\n",
       "      <th>4</th>\n",
       "      <td>0.0</td>\n",
       "      <td>9.864</td>\n",
       "      <td>0.0</td>\n",
       "      <td>11.577</td>\n",
       "      <td>0.0</td>\n",
       "      <td>4.480</td>\n",
       "      <td>155.3</td>\n",
       "      <td>2.0</td>\n",
       "      <td>16.583</td>\n",
       "      <td>2.0</td>\n",
       "      <td>...</td>\n",
       "      <td>6.096</td>\n",
       "      <td>5.424</td>\n",
       "      <td>19.077</td>\n",
       "      <td>11.0</td>\n",
       "      <td>15.0</td>\n",
       "      <td>9.0</td>\n",
       "      <td>0.0</td>\n",
       "      <td>4350.0</td>\n",
       "      <td>0.0</td>\n",
       "      <td>1.0</td>\n",
       "    </tr>\n",
       "  </tbody>\n",
       "</table>\n",
       "<p>5 rows × 40 columns</p>\n",
       "</div>"
      ],
      "text/plain": [
       "    X0      X5   X6     X13  X21    X25    X26  X27     X28  X29  ...    X126  \\\n",
       "0  0.0  13.800  1.0   9.771  0.0  5.348   84.8  3.0   6.116  3.0  ...   6.456   \n",
       "1  0.0   9.416  0.0   9.975  0.0  5.712  119.0  0.0   6.806  0.0  ...   6.045   \n",
       "2  0.0  10.668  0.0  10.675  0.0  4.908   95.6  0.0  48.521  0.0  ...   5.913   \n",
       "3  0.0  18.000  0.0   9.183  0.0  4.508  114.5  0.0   4.925  0.0  ...   5.994   \n",
       "4  0.0   9.864  0.0  11.577  0.0  4.480  155.3  2.0  16.583  2.0  ...   6.096   \n",
       "\n",
       "    X130    X138  X142  X147  X152  X154    X160  X165  X167  \n",
       "0  5.500  18.258   0.0   0.0   0.0   0.0  2068.0   0.0   0.0  \n",
       "1  5.516  17.859   4.0   2.0   2.0   0.0  1674.0   0.0   0.0  \n",
       "2  5.568  16.236   4.0   4.0   0.0   0.0  1230.0   0.0   0.0  \n",
       "3  5.564  16.242   0.0   1.0   0.0   0.0   988.0   0.0   0.0  \n",
       "4  5.424  19.077  11.0  15.0   9.0   0.0  4350.0   0.0   1.0  \n",
       "\n",
       "[5 rows x 40 columns]"
      ]
     },
     "execution_count": 9,
     "metadata": {},
     "output_type": "execute_result"
    }
   ],
   "source": [
    "X_select.head()"
   ]
  },
  {
   "cell_type": "markdown",
   "metadata": {},
   "source": [
    "## <a id=\"Baseline\"> III) Baseline classification model </a>  "
   ]
  },
  {
   "cell_type": "markdown",
   "metadata": {},
   "source": [
    "#### Train/test split"
   ]
  },
  {
   "cell_type": "code",
   "execution_count": 10,
   "metadata": {},
   "outputs": [],
   "source": [
    "X_train, X_test, y_train, y_test = train_test_split(X, y, train_size=0.7, test_size=0.3)\n",
    "X_train_select, X_test_select, y_train_select, y_test_select = train_test_split(X_select, y, train_size=0.7, test_size=0.3)"
   ]
  },
  {
   "cell_type": "markdown",
   "metadata": {},
   "source": [
    "#### Classification on feature selected dataset"
   ]
  },
  {
   "cell_type": "code",
   "execution_count": 11,
   "metadata": {},
   "outputs": [
    {
     "data": {
      "text/plain": [
       "0.8529411764705882"
      ]
     },
     "execution_count": 11,
     "metadata": {},
     "output_type": "execute_result"
    }
   ],
   "source": [
    "clf = LogisticRegression()\n",
    "clf.fit(X_train_select, np.array(y_train_select).ravel())\n",
    "clf.score(X_test_select, np.array(y_test_select).ravel())"
   ]
  },
  {
   "cell_type": "markdown",
   "metadata": {},
   "source": [
    "#### Classification on original dataset"
   ]
  },
  {
   "cell_type": "code",
   "execution_count": 12,
   "metadata": {},
   "outputs": [
    {
     "data": {
      "text/plain": [
       "0.8562091503267973"
      ]
     },
     "execution_count": 12,
     "metadata": {},
     "output_type": "execute_result"
    }
   ],
   "source": [
    "clf = LogisticRegression()\n",
    "clf.fit(X_train, np.array(y_train).ravel())\n",
    "clf.score(X_test, np.array(y_test).ravel())"
   ]
  },
  {
   "cell_type": "markdown",
   "metadata": {},
   "source": [
    "## <a id=\"Submission\"> IV) Submission files </a>  "
   ]
  },
  {
   "cell_type": "code",
   "execution_count": 13,
   "metadata": {},
   "outputs": [],
   "source": [
    "# selection\n",
    "selection = []\n",
    "for column in X.columns:\n",
    "    if column in X_select.columns:\n",
    "        selection.append(1)\n",
    "    else:\n",
    "        selection.append(0)\n",
    "pd.Series(selection).to_csv('selection.csv', index=False)\n",
    "\n",
    "# classification\n",
    "test = pd.read_csv('../public_data_1/chems_test.data', header=None, names=features, sep=',')\n",
    "prediction = clf.predict(test)\n",
    "pd.Series(prediction).to_csv('classification.csv', index=False)"
   ]
  },
  {
   "cell_type": "code",
   "execution_count": null,
   "metadata": {},
   "outputs": [],
   "source": []
  }
 ],
 "metadata": {
  "kernelspec": {
   "display_name": "Python 3",
   "language": "python",
   "name": "python3"
  },
  "language_info": {
   "codemirror_mode": {
    "name": "ipython",
    "version": 3
   },
   "file_extension": ".py",
   "mimetype": "text/x-python",
   "name": "python",
   "nbconvert_exporter": "python",
   "pygments_lexer": "ipython3",
   "version": "3.7.0"
  }
 },
 "nbformat": 4,
 "nbformat_minor": 2
}
