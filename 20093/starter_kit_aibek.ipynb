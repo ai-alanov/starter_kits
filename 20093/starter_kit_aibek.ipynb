{
 "cells": [
  {
   "cell_type": "code",
   "execution_count": 1,
   "metadata": {
    "ExecuteTime": {
     "end_time": "2018-09-13T11:30:05.290522Z",
     "start_time": "2018-09-13T11:30:02.151563Z"
    }
   },
   "outputs": [],
   "source": [
    "import pandas as pd\n",
    "import numpy as np\n",
    "from sklearn.model_selection import train_test_split"
   ]
  },
  {
   "cell_type": "code",
   "execution_count": 2,
   "metadata": {
    "ExecuteTime": {
     "end_time": "2018-09-13T11:30:36.549944Z",
     "start_time": "2018-09-13T11:30:36.428392Z"
    }
   },
   "outputs": [],
   "source": [
    "import numpy as np\n",
    "\n",
    "X = np.loadtxt('Try/Try_train.data')\n",
    "y = np.loadtxt('Try/Try_train.solution')"
   ]
  },
  {
   "cell_type": "code",
   "execution_count": 5,
   "metadata": {
    "ExecuteTime": {
     "end_time": "2018-09-13T11:36:29.023940Z",
     "start_time": "2018-09-13T11:36:29.013879Z"
    }
   },
   "outputs": [],
   "source": [
    "from sklearn.preprocessing import PolynomialFeatures\n",
    "\n",
    "poly = PolynomialFeatures(4)\n",
    "X = poly.fit_transform(X[:, None])"
   ]
  },
  {
   "cell_type": "code",
   "execution_count": 6,
   "metadata": {
    "ExecuteTime": {
     "end_time": "2018-09-13T11:36:55.146386Z",
     "start_time": "2018-09-13T11:36:55.095286Z"
    }
   },
   "outputs": [],
   "source": [
    "w_opt = np.linalg.solve(X.T @ X, X.T @ y)"
   ]
  },
  {
   "cell_type": "code",
   "execution_count": 7,
   "metadata": {
    "ExecuteTime": {
     "end_time": "2018-09-13T11:37:39.761766Z",
     "start_time": "2018-09-13T11:37:39.736425Z"
    }
   },
   "outputs": [],
   "source": [
    "X_test = np.loadtxt('Try/Try_test.data')\n",
    "X_test = poly.transform(X_test[:, None])"
   ]
  },
  {
   "cell_type": "code",
   "execution_count": 8,
   "metadata": {
    "ExecuteTime": {
     "end_time": "2018-09-13T11:38:03.074700Z",
     "start_time": "2018-09-13T11:38:03.067289Z"
    }
   },
   "outputs": [],
   "source": [
    "y_test = X_test @ w_opt"
   ]
  },
  {
   "cell_type": "code",
   "execution_count": 9,
   "metadata": {
    "ExecuteTime": {
     "end_time": "2018-09-13T11:38:17.010249Z",
     "start_time": "2018-09-13T11:38:16.997596Z"
    }
   },
   "outputs": [],
   "source": [
    "np.savetxt(\"submission.csv\", y_test)"
   ]
  }
 ],
 "metadata": {
  "kernelspec": {
   "display_name": "Python 3",
   "language": "python",
   "name": "python3"
  },
  "language_info": {
   "codemirror_mode": {
    "name": "ipython",
    "version": 3
   },
   "file_extension": ".py",
   "mimetype": "text/x-python",
   "name": "python",
   "nbconvert_exporter": "python",
   "pygments_lexer": "ipython3",
   "version": "3.6.3"
  }
 },
 "nbformat": 4,
 "nbformat_minor": 2
}
