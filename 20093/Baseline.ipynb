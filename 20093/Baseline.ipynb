{
 "cells": [
  {
   "cell_type": "code",
   "execution_count": 7,
   "metadata": {},
   "outputs": [],
   "source": [
    "import numpy as np\n",
    "\n",
    "X = np.loadtxt('Try/Try.data')\n",
    "\n",
    "y = np.loadtxt('Try/Try.solution')\n",
    "\n",
    "w = [0, 0, 0]\n",
    "\n",
    "def func(w, X):\n",
    "    a = w[0]\n",
    "    b = w[1]\n",
    "    c = w[2]\n",
    "    return a * np.sin(X) ** 2 + a ** 2 * X  + b * np.log(X) + c * X **2"
   ]
  },
  {
   "cell_type": "code",
   "execution_count": 9,
   "metadata": {},
   "outputs": [],
   "source": [
    "np.savetxt(\"dummy_sobmition.csv\", func(w, X))"
   ]
  },
  {
   "cell_type": "code",
   "execution_count": null,
   "metadata": {},
   "outputs": [],
   "source": []
  }
 ],
 "metadata": {
  "kernelspec": {
   "display_name": "Python 3",
   "language": "python",
   "name": "python3"
  },
  "language_info": {
   "codemirror_mode": {
    "name": "ipython",
    "version": 3
   },
   "file_extension": ".py",
   "mimetype": "text/x-python",
   "name": "python",
   "nbconvert_exporter": "python",
   "pygments_lexer": "ipython3",
   "version": "3.6.4"
  }
 },
 "nbformat": 4,
 "nbformat_minor": 2
}
