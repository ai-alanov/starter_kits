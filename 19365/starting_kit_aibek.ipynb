{
 "cells": [
  {
   "cell_type": "code",
   "execution_count": 1,
   "metadata": {
    "ExecuteTime": {
     "end_time": "2018-09-12T22:53:27.225451Z",
     "start_time": "2018-09-12T22:53:24.812518Z"
    }
   },
   "outputs": [],
   "source": [
    "%matplotlib inline\n",
    "%reload_ext autoreload\n",
    "%autoreload\n",
    "\n",
    "import pandas as pd\n",
    "import numpy as np\n",
    "import matplotlib.pyplot as plt\n",
    "import seaborn as sns\n",
    "from sklearn.model_selection import train_test_split"
   ]
  },
  {
   "cell_type": "code",
   "execution_count": 2,
   "metadata": {
    "ExecuteTime": {
     "end_time": "2018-09-12T22:53:32.895097Z",
     "start_time": "2018-09-12T22:53:27.229169Z"
    }
   },
   "outputs": [],
   "source": [
    "features = pd.read_csv('public_data_1/mimic_synthetic_feat.name',header=None).values.flatten()\n",
    "labels = pd.read_csv('public_data_1/mimic_synthetic_label.name', header=None).values.flatten()\n",
    "X_full = pd.read_csv('public_data_1/mimic_synthetic_train.data', header=None, names=features, sep=' ')\n",
    "y = pd.Series(pd.read_csv('public_data_1/mimic_synthetic_train.solution', header=None, names=labels, sep=',').values.flatten())"
   ]
  },
  {
   "cell_type": "code",
   "execution_count": 3,
   "metadata": {
    "ExecuteTime": {
     "end_time": "2018-09-12T22:53:32.914732Z",
     "start_time": "2018-09-12T22:53:32.898914Z"
    }
   },
   "outputs": [
    {
     "name": "stdout",
     "output_type": "stream",
     "text": [
      "Numerical      226\n",
      "Binary         107\n",
      "Categorical      8\n",
      "Name: 0, dtype: int64\n"
     ]
    }
   ],
   "source": [
    "types = pd.read_csv('public_data_1/mimic_synthetic_feat.type', header=None).set_index(features)[0]\n",
    "print(types.value_counts())"
   ]
  },
  {
   "cell_type": "code",
   "execution_count": 4,
   "metadata": {
    "ExecuteTime": {
     "end_time": "2018-09-12T22:53:35.316193Z",
     "start_time": "2018-09-12T22:53:32.918613Z"
    }
   },
   "outputs": [],
   "source": [
    "X = X_full.drop(['SUBJECT_ID', 'HADM_ID', 'ADMITTIME', 'DISCHTIME'], axis=1)\n",
    "X = pd.get_dummies(X, columns=['INSURANCE', 'LANGUAGE', 'RELIGION', 'MARITAL_STATUS', 'ETHNICITY', 'ICU', 'GENDER'])\n",
    "X = X.fillna(0)"
   ]
  },
  {
   "cell_type": "code",
   "execution_count": 5,
   "metadata": {
    "ExecuteTime": {
     "end_time": "2018-09-12T22:53:35.717124Z",
     "start_time": "2018-09-12T22:53:35.320038Z"
    }
   },
   "outputs": [],
   "source": [
    "X_train, X_test, y_train, y_test = train_test_split(X, y, train_size=0.7, test_size=0.3, random_state=1234)"
   ]
  },
  {
   "cell_type": "code",
   "execution_count": 8,
   "metadata": {
    "ExecuteTime": {
     "end_time": "2018-09-12T22:54:40.480379Z",
     "start_time": "2018-09-12T22:54:25.659238Z"
    },
    "scrolled": true
   },
   "outputs": [
    {
     "name": "stdout",
     "output_type": "stream",
     "text": [
      "0.6005902573875954\n"
     ]
    }
   ],
   "source": [
    "from sklearn.linear_model import LassoCV\n",
    "from sklearn.metrics import confusion_matrix\n",
    "\n",
    "clf_lasso = LassoCV(cv=4).fit(X_train, y_train)\n",
    "y_pred = clf_lasso.predict(X_test)\n",
    "y_pred[y_pred >= 0] = 1\n",
    "y_pred[y_pred < 0] = 0\n",
    "C = confusion_matrix(y_test, y_pred)\n",
    "per_class = np.diag(C) / C.sum(axis=1)\n",
    "score = np.mean(per_class)\n",
    "print(score)"
   ]
  },
  {
   "cell_type": "code",
   "execution_count": 14,
   "metadata": {
    "ExecuteTime": {
     "end_time": "2018-09-12T22:56:30.730653Z",
     "start_time": "2018-09-12T22:56:28.757663Z"
    }
   },
   "outputs": [],
   "source": [
    "test = pd.read_csv('public_data_1/mimic_synthetic_test.data', header=None, names=features, sep=' ')\n",
    "X_test = test.drop(['SUBJECT_ID', 'HADM_ID', 'ADMITTIME', 'DISCHTIME'], axis=1)\n",
    "X_test = pd.get_dummies(X_test, columns=['INSURANCE', 'LANGUAGE', 'RELIGION', 'MARITAL_STATUS', 'ETHNICITY', 'ICU', 'GENDER'])\n",
    "X_test = X_test.fillna(0)\n",
    "X_test = X_test.reindex(columns = X.columns, fill_value=0)\n",
    "prediction = clf_lasso.predict(X_test)\n",
    "pd.Series(prediction).to_csv('classification_aibek.csv', index=False)"
   ]
  }
 ],
 "metadata": {
  "kernelspec": {
   "display_name": "Python 3",
   "language": "python",
   "name": "python3"
  },
  "language_info": {
   "codemirror_mode": {
    "name": "ipython",
    "version": 3
   },
   "file_extension": ".py",
   "mimetype": "text/x-python",
   "name": "python",
   "nbconvert_exporter": "python",
   "pygments_lexer": "ipython3",
   "version": "3.6.3"
  }
 },
 "nbformat": 4,
 "nbformat_minor": 2
}
